{
 "cells": [
  {
   "cell_type": "code",
   "execution_count": 1,
   "metadata": {},
   "outputs": [],
   "source": [
    "from matplotlib import pyplot as plt\n",
    "import numpy as np\n",
    "from skimage import color\n",
    "from skimage import io"
   ]
  },
  {
   "cell_type": "code",
   "execution_count": 2,
   "metadata": {},
   "outputs": [],
   "source": [
    "kernelsize = 501\n",
    "\n",
    "if kernelsize%2==1:\n",
    "    ks=kernelsize\n",
    "ksn=int((ks-1)/2)"
   ]
  },
  {
   "cell_type": "code",
   "execution_count": 3,
   "metadata": {},
   "outputs": [
    {
     "data": {
      "image/png": "[encoded data removed]",
      "text/plain": [
       "<Figure size 432x288 with 1 Axes>"
      ]
     },
     "metadata": {
      "needs_background": "light"
     },
     "output_type": "display_data"
    }
   ],
   "source": [
    "#Get RGB_Channels from 4 Channel png\n",
    "imgi = io.imread('Test.png')[:,:,:3]\n",
    "\n",
    "#convert to Grayscale\n",
    "img = color.rgb2gray(imgi)\n",
    "plt.imshow(img)\n",
    "plt.gray()\n",
    "plt.axis('off')\n",
    "plt.show()"
   ]
  },
  {
   "cell_type": "code",
   "execution_count": 4,
   "metadata": {},
   "outputs": [
    {
     "ename": "SyntaxError",
     "evalue": "invalid syntax (3495277893.py, line 9)",
     "output_type": "error",
     "traceback": [
      "\u001b[0;36m  Input \u001b[0;32mIn [4]\u001b[0;36m\u001b[0m\n\u001b[0;31m    m2o=\u001b[0m\n\u001b[0m        ^\u001b[0m\n\u001b[0;31mSyntaxError\u001b[0m\u001b[0;31m:\u001b[0m invalid syntax\n"
     ]
    }
   ],
   "source": [
    "#   1ol 2o  1or\n",
    "#   3l  org   3r\n",
    "#   1ul 2u  1ur\n",
    "\n",
    "\n",
    "img2o = img[0,:]\n",
    "img2u = img[-1,:]\n",
    "\n",
    "m2o=\n",
    "\n",
    "\n",
    "img1ol=img[0,0]\n",
    "img1ul=img[-1,0]\n",
    "img1ur=img[-1,-1]\n",
    "img1or=img[0,-1]\n",
    "\n",
    "img3l= img[:,0]\n",
    "img3r= img[:,-1]"
   ]
  },
  {
   "cell_type": "code",
   "execution_count": null,
   "metadata": {},
   "outputs": [
    {
     "ename": "AttributeError",
     "evalue": "module 'numpy' has no attribute 'fill'",
     "output_type": "error",
     "traceback": [
      "\u001b[0;31m---------------------------------------------------------------------------\u001b[0m",
      "\u001b[0;31mAttributeError\u001b[0m                            Traceback (most recent call last)",
      "\u001b[1;32m/home/friedrichjahns/BScPhysik/Semester 7/Bildgebende Verfahren/Padding/replicate_padding.ipynb Cell 5'\u001b[0m in \u001b[0;36m<cell line: 2>\u001b[0;34m()\u001b[0m\n\u001b[1;32m      <a href='vscode-notebook-cell:/home/friedrichjahns/BScPhysik/Semester%207/Bildgebende%20Verfahren/Padding/replicate_padding.ipynb#W4sZmlsZQ%3D%3D?line=0'>1</a>\u001b[0m X \u001b[39m=\u001b[39mnp\u001b[39m.\u001b[39marray([\u001b[39m1\u001b[39m,\u001b[39m2\u001b[39m,\u001b[39m3\u001b[39m,\u001b[39m4\u001b[39m,\u001b[39m5\u001b[39m])\n\u001b[0;32m----> <a href='vscode-notebook-cell:/home/friedrichjahns/BScPhysik/Semester%207/Bildgebende%20Verfahren/Padding/replicate_padding.ipynb#W4sZmlsZQ%3D%3D?line=1'>2</a>\u001b[0m b\u001b[39m=\u001b[39mnp\u001b[39m.\u001b[39;49mfill(\u001b[39m2\u001b[39m,X)\n\u001b[1;32m      <a href='vscode-notebook-cell:/home/friedrichjahns/BScPhysik/Semester%207/Bildgebende%20Verfahren/Padding/replicate_padding.ipynb#W4sZmlsZQ%3D%3D?line=2'>3</a>\u001b[0m \u001b[39mprint\u001b[39m(b)\n",
      "File \u001b[0;32m~/.local/lib/python3.10/site-packages/numpy/__init__.py:315\u001b[0m, in \u001b[0;36m__getattr__\u001b[0;34m(attr)\u001b[0m\n\u001b[1;32m    <a href='file:///home/friedrichjahns/.local/lib/python3.10/site-packages/numpy/__init__.py?line=311'>312</a>\u001b[0m     \u001b[39mfrom\u001b[39;00m \u001b[39m.\u001b[39;00m\u001b[39mtesting\u001b[39;00m \u001b[39mimport\u001b[39;00m Tester\n\u001b[1;32m    <a href='file:///home/friedrichjahns/.local/lib/python3.10/site-packages/numpy/__init__.py?line=312'>313</a>\u001b[0m     \u001b[39mreturn\u001b[39;00m Tester\n\u001b[0;32m--> <a href='file:///home/friedrichjahns/.local/lib/python3.10/site-packages/numpy/__init__.py?line=314'>315</a>\u001b[0m \u001b[39mraise\u001b[39;00m \u001b[39mAttributeError\u001b[39;00m(\u001b[39m\"\u001b[39m\u001b[39mmodule \u001b[39m\u001b[39m{!r}\u001b[39;00m\u001b[39m has no attribute \u001b[39m\u001b[39m\"\u001b[39m\n\u001b[1;32m    <a href='file:///home/friedrichjahns/.local/lib/python3.10/site-packages/numpy/__init__.py?line=315'>316</a>\u001b[0m                      \u001b[39m\"\u001b[39m\u001b[39m{!r}\u001b[39;00m\u001b[39m\"\u001b[39m\u001b[39m.\u001b[39mformat(\u001b[39m__name__\u001b[39m, attr))\n",
      "\u001b[0;31mAttributeError\u001b[0m: module 'numpy' has no attribute 'fill'"
     ]
    }
   ],
   "source": [
    "X =np.array([1,2,3,4,5])\n",
    "b=np.fill(2,X)\n",
    "print(b)"
   ]
  }
 ],
 "metadata": {
  "interpreter": {
   "hash": "e7370f93d1d0cde622a1f8e1c04877d8463912d04d973331ad4851f04de6915a"
  },
  "kernelspec": {
   "display_name": "Python 3.10.7 64-bit",
   "language": "python",
   "name": "python3"
  },
  "language_info": {
   "codemirror_mode": {
    "name": "ipython",
    "version": 3
   },
   "file_extension": ".py",
   "mimetype": "text/x-python",
   "name": "python",
   "nbconvert_exporter": "python",
   "pygments_lexer": "ipython3",
   "version": "3.10.8"
  },
  "orig_nbformat": 4
 },
 "nbformat": 4,
 "nbformat_minor": 2
}
