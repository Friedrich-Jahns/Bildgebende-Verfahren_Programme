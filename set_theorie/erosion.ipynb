{
 "cells": [
  {
   "cell_type": "code",
   "execution_count": 39,
   "metadata": {},
   "outputs": [],
   "source": [
    "from matplotlib import pyplot as plt\n",
    "import numpy as np\n",
    "from skimage import color\n",
    "from skimage import io"
   ]
  },
  {
   "cell_type": "code",
   "execution_count": 40,
   "metadata": {},
   "outputs": [],
   "source": [
    "kernelsize = 3\n",
    "\n",
    "if kernelsize%2==1:\n",
    "    ks=kernelsize\n",
    "ksn=int((ks-1)/2)"
   ]
  },
  {
   "cell_type": "code",
   "execution_count": 41,
   "metadata": {},
   "outputs": [
    {
     "data": {
      "text/plain": [
       "<matplotlib.image.AxesImage at 0x7f28b0e3a6b0>"
      ]
     },
     "execution_count": 41,
     "metadata": {},
     "output_type": "execute_result"
    },
    {
     "data": {
      "image/png": "[encoded data removed]",
      "text/plain": [
       "<Figure size 432x288 with 1 Axes>"
      ]
     },
     "metadata": {
      "needs_background": "light"
     },
     "output_type": "display_data"
    }
   ],
   "source": [
    "def neighbours(a,b,mat,s=ksn):\n",
    "    neighbors = [mat[i][j] for i in range(a-s, a+s+1) for j in range(b-s, b+s+1)]\n",
    "    return np.array(neighbors)\n",
    "\n",
    "#Get RGB_Channels from 4 Channel png\n",
    "imgi = io.imread('Test.png')[:,:,:3]\n",
    "\n",
    "#convert to Binary\n",
    "imgg = color.rgb2gray(imgi)\n",
    "halfmax = np.max(imgg)/2\n",
    "imgbw=np.where(imgg>halfmax, 255, 0)\n",
    "plt.imshow(imgbw,cmap = \"gray\")"
   ]
  },
  {
   "cell_type": "code",
   "execution_count": 42,
   "metadata": {},
   "outputs": [],
   "source": [
    "def mirror_padding(img,ksn):\n",
    "    m2 = np.flipud(img)\n",
    "    m2o = m2[-ksn:,:]\n",
    "    m2u = m2[:ksn,:]\n",
    "    m1 = np.fliplr(m2)\n",
    "    m1ol=m1[-ksn:,-ksn:]\n",
    "    m1ul=m1[:ksn,-ksn:]\n",
    "    m1ur=m1[:ksn,:ksn]\n",
    "    m1or=m1[-ksn:,:ksn]\n",
    "    m3 = np.fliplr(img)\n",
    "    m3l= m3[:,-ksn:]\n",
    "    m3r= m3[:,:ksn]\n",
    "\n",
    "    imgn=np.zeros((len(img)+2*ksn,len(img[0])+2*ksn))\n",
    "    imgn[0:ksn,0:ksn]=m1ol\n",
    "    imgn[ksn:-ksn,0:ksn]=m3l\n",
    "    imgn[-ksn:,:ksn]=m1ul\n",
    "    imgn[-ksn:,ksn:-ksn]=m2u\n",
    "    imgn[-ksn:,-ksn:]=m1ur\n",
    "    imgn[ksn:-ksn,-ksn:]=m3r\n",
    "    imgn[0:ksn,-ksn:]=m1or\n",
    "    imgn[0:ksn,ksn:-ksn]=m2o\n",
    "    imgn[ksn:-ksn,ksn:-ksn]=img\n",
    "    return imgn\n",
    "\n",
    "img = mirror_padding(imgg,ksn)"
   ]
  }
 ],
 "metadata": {
  "kernelspec": {
   "display_name": "Python 3.10.8 64-bit",
   "language": "python",
   "name": "python3"
  },
  "language_info": {
   "codemirror_mode": {
    "name": "ipython",
    "version": 3
   },
   "file_extension": ".py",
   "mimetype": "text/x-python",
   "name": "python",
   "nbconvert_exporter": "python",
   "pygments_lexer": "ipython3",
   "version": "3.10.8"
  },
  "orig_nbformat": 4,
  "vscode": {
   "interpreter": {
    "hash": "e7370f93d1d0cde622a1f8e1c04877d8463912d04d973331ad4851f04de6915a"
   }
  }
 },
 "nbformat": 4,
 "nbformat_minor": 2
}
