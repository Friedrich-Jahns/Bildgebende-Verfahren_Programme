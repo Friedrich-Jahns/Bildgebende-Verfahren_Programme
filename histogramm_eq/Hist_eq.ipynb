{
 "cells": [
  {
   "cell_type": "code",
   "execution_count": 1,
   "metadata": {},
   "outputs": [],
   "source": [
    "from matplotlib import pyplot as plt\n",
    "import numpy as np\n",
    "from skimage import color\n",
    "from skimage import io"
   ]
  },
  {
   "cell_type": "code",
   "execution_count": 1,
   "metadata": {},
   "outputs": [
    {
     "ename": "NameError",
     "evalue": "name 'io' is not defined",
     "output_type": "error",
     "traceback": [
      "\u001b[0;31m---------------------------------------------------------------------------\u001b[0m",
      "\u001b[0;31mNameError\u001b[0m                                 Traceback (most recent call last)",
      "\u001b[1;32m/home/friedrichjahns/BScPhysik/Semester 7/Bildgebende Verfahren/Bildgebende Verfahren_Programme/histogramm_eq/Hist_eq.ipynb Zelle 2\u001b[0m in \u001b[0;36m<cell line: 2>\u001b[0;34m()\u001b[0m\n\u001b[1;32m      <a href='vscode-notebook-cell:/home/friedrichjahns/BScPhysik/Semester%207/Bildgebende%20Verfahren/Bildgebende%20Verfahren_Programme/histogramm_eq/Hist_eq.ipynb#W1sZmlsZQ%3D%3D?line=0'>1</a>\u001b[0m \u001b[39m#Get RGB_Channels from 4 Channel png\u001b[39;00m\n\u001b[0;32m----> <a href='vscode-notebook-cell:/home/friedrichjahns/BScPhysik/Semester%207/Bildgebende%20Verfahren/Bildgebende%20Verfahren_Programme/histogramm_eq/Hist_eq.ipynb#W1sZmlsZQ%3D%3D?line=1'>2</a>\u001b[0m imgi \u001b[39m=\u001b[39m io\u001b[39m.\u001b[39mimread(\u001b[39m'\u001b[39m\u001b[39mimg1.png\u001b[39m\u001b[39m'\u001b[39m)[:,:,:\u001b[39m3\u001b[39m]\n\u001b[1;32m      <a href='vscode-notebook-cell:/home/friedrichjahns/BScPhysik/Semester%207/Bildgebende%20Verfahren/Bildgebende%20Verfahren_Programme/histogramm_eq/Hist_eq.ipynb#W1sZmlsZQ%3D%3D?line=3'>4</a>\u001b[0m \u001b[39m#convert to Grayscale\u001b[39;00m\n\u001b[1;32m      <a href='vscode-notebook-cell:/home/friedrichjahns/BScPhysik/Semester%207/Bildgebende%20Verfahren/Bildgebende%20Verfahren_Programme/histogramm_eq/Hist_eq.ipynb#W1sZmlsZQ%3D%3D?line=4'>5</a>\u001b[0m img \u001b[39m=\u001b[39m color\u001b[39m.\u001b[39mrgb2gray(imgi)\n",
      "\u001b[0;31mNameError\u001b[0m: name 'io' is not defined"
     ]
    }
   ],
   "source": [
    "#Get RGB_Channels from 4 Channel png\n",
    "imgi = io.imread('img1.png')[:,:,:3]\n",
    "\n",
    "#convert to Grayscale\n",
    "img = color.rgb2gray(imgi)\n",
    "\n",
    "plt.imshow(img)\n",
    "plt.gray()\n",
    "plt.show()\n",
    "plt.hist(img,bins=255)"
   ]
  },
  {
   "cell_type": "code",
   "execution_count": null,
   "metadata": {},
   "outputs": [],
   "source": []
  }
 ],
 "metadata": {
  "interpreter": {
   "hash": "e7370f93d1d0cde622a1f8e1c04877d8463912d04d973331ad4851f04de6915a"
  },
  "kernelspec": {
   "display_name": "Python 3.10.7 64-bit",
   "language": "python",
   "name": "python3"
  },
  "language_info": {
   "codemirror_mode": {
    "name": "ipython",
    "version": 3
   },
   "file_extension": ".py",
   "mimetype": "text/x-python",
   "name": "python",
   "nbconvert_exporter": "python",
   "pygments_lexer": "ipython3",
   "version": "3.10.8"
  },
  "orig_nbformat": 4
 },
 "nbformat": 4,
 "nbformat_minor": 2
}
